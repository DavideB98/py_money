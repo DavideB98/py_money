{
 "cells": [
  {
   "cell_type": "code",
   "execution_count": 58,
   "metadata": {},
   "outputs": [
    {
     "name": "stdout",
     "output_type": "stream",
     "text": [
      "Sei entrato nella text box del nome!\n",
      "\n",
      "Sei entrato nella text box del cognome!\n",
      "Sei entrato nella text box della password!\n"
     ]
    }
   ],
   "source": [
    "import pygame\n",
    "from pygame.locals import *\n",
    "\n",
    "# Inizializzazione di Pygame\n",
    "pygame.init()\n",
    "\n",
    "# Dimensioni della finestra\n",
    "width = 800\n",
    "height = 600\n",
    "\n",
    "# Carica l'immagine di sfondo e ridimensionala alle dimensioni della finestra\n",
    "background_image = pygame.image.load('sfondo.jpg')\n",
    "background_image = pygame.transform.scale(background_image, (width, height))\n",
    "\n",
    "# Creazione della finestra\n",
    "window = pygame.display.set_mode((width, height))\n",
    "pygame.display.set_caption(\"Login / Registrazione\")\n",
    "\n",
    "# Definizione dei colori\n",
    "WHITE = (255, 255, 255)\n",
    "BLACK = (0, 0, 0)\n",
    "BLUE = (0, 0, 255)\n",
    "YELLOW = (255,255,0)\n",
    "\n",
    "# Definizione delle dimensioni dei campi di testo\n",
    "input_width = 200\n",
    "input_height = 30\n",
    "\n",
    "# Definizione delle coordinate dei campi di testo\n",
    "name_input_pos = (width / 2 - input_width / 2, height / 2 - 100)\n",
    "surname_input_pos = (width / 2 - input_width / 2, height / 2 - 50)\n",
    "password_input_pos = (width / 2 - input_width / 2, height / 2)\n",
    "login_button_pos = (width / 2 - input_width / 2, height / 2 + 50)\n",
    "register_button_pos = (width / 2 - input_width / 2, height / 2 + 100)\n",
    "\n",
    "# Creazione dei pulsanti\n",
    "login_button = pygame.Rect(login_button_pos[0], login_button_pos[1], input_width, input_height)\n",
    "register_button = pygame.Rect(register_button_pos[0], register_button_pos[1], input_width, input_height)\n",
    "\n",
    "# Definizione dei rettangoli dei campi di input\n",
    "name_input_rect = pygame.Rect(name_input_pos[0], name_input_pos[1], input_width, input_height)\n",
    "surname_input_rect = pygame.Rect(surname_input_pos[0], surname_input_pos[1], input_width, input_height)\n",
    "password_input_rect = pygame.Rect(password_input_pos[0], password_input_pos[1], input_width, input_height)\n",
    "\n",
    "# Creazione dei campi di testo\n",
    "name_input_text = \"\"\n",
    "surname_input_text = \"\"\n",
    "password_input_text = \"\"\n",
    "\n",
    "# Font per il testo\n",
    "font = pygame.font.Font(None, 24)\n",
    "\n",
    "# Variabili per gestire gli stati dei campi di input\n",
    "name_input_active = False\n",
    "surname_input_active = False\n",
    "password_input_active = False\n",
    "\n",
    "# Ciclo principale del programma\n",
    "running = True\n",
    "while running:\n",
    "    # Gestione degli eventi\n",
    "    for event in pygame.event.get():\n",
    "        if event.type == QUIT:\n",
    "            running = False\n",
    "        elif event.type == MOUSEBUTTONDOWN:\n",
    "            mouse_pos = pygame.mouse.get_pos()\n",
    "\n",
    "            # Controllo se i pulsanti sono stati cliccati\n",
    "            if login_button.collidepoint(mouse_pos):\n",
    "                print(\"Hai cliccato il pulsante del login!\")\n",
    "                name_input_value = name_input_text\n",
    "                surname_input_value = surname_input_text\n",
    "                password_input_value = password_input_text\n",
    "            elif register_button.collidepoint(mouse_pos):\n",
    "                print(\"Hai cliccato il pulsante per registrarsi!\")\n",
    "                name_input_value = name_input_text\n",
    "                surname_input_value = surname_input_text\n",
    "                password_input_value = password_input_text\n",
    "            elif name_input_rect.collidepoint(mouse_pos):\n",
    "                print(\"Sei entrato nella text box del nome!\")\n",
    "                print(name_input_text)\n",
    "                name_input_active = True\n",
    "                surname_input_active = False\n",
    "                password_input_active = False\n",
    "            elif surname_input_rect.collidepoint(mouse_pos):\n",
    "                print(\"Sei entrato nella text box del cognome!\")\n",
    "                name_input_active = False\n",
    "                surname_input_active = True\n",
    "                password_input_active = False\n",
    "            elif password_input_rect.collidepoint(mouse_pos):\n",
    "                print(\"Sei entrato nella text box della password!\")\n",
    "                name_input_active = False\n",
    "                surname_input_active = False\n",
    "                password_input_active = True\n",
    "            else:\n",
    "                name_input_active = False\n",
    "                surname_input_active = False\n",
    "                password_input_active = False\n",
    "        elif event.type == KEYDOWN:\n",
    "            if event.key == K_RETURN:\n",
    "                print(\"Hai premuto invio!\")\n",
    "                print(\"Name:\", name_input_text)\n",
    "                print(\"Surname:\", surname_input_text)\n",
    "                print(\"Password:\", password_input_text)\n",
    "            elif event.key == K_BACKSPACE:\n",
    "                if name_input_active:\n",
    "                    name_input_text = name_input_text[:-1]\n",
    "                elif surname_input_active:\n",
    "                    surname_input_text = surname_input_text[:-1]\n",
    "                elif password_input_active:\n",
    "                    password_input_text = password_input_text[:-1]\n",
    "            else:\n",
    "                if name_input_active:\n",
    "                    name_input_text += event.unicode\n",
    "                elif surname_input_active:\n",
    "                    surname_input_text += event.unicode\n",
    "                elif password_input_active:\n",
    "                    password_input_text += event.unicode\n",
    "\n",
    "    # Disegna lo sfondo\n",
    "    # window.blit(background_image, (0,0))\n",
    "    window.fill(YELLOW)\n",
    "\n",
    "    # Disegna i campi di testo\n",
    "    pygame.draw.rect(window, BLACK, (name_input_pos[0], name_input_pos[1], input_width, input_height), 2)\n",
    "    pygame.draw.rect(window, BLACK, (surname_input_pos[0], surname_input_pos[1], input_width, input_height), 2)\n",
    "    pygame.draw.rect(window, BLACK, (password_input_pos[0], password_input_pos[1], input_width, input_height), 2)\n",
    "\n",
    "    # Renderizza il testo inserito\n",
    "    name_input_render = font.render(name_input_text, True, BLACK)\n",
    "    surname_input_render = font.render(surname_input_text, True, BLACK)\n",
    "    password_input_render = font.render(\"*\" * len(password_input_text), True, BLACK)\n",
    "\n",
    "    # Disegna il testo inserito\n",
    "    window.blit(name_input_render, (name_input_pos[0] + 5, name_input_pos[1] + 5))\n",
    "    window.blit(surname_input_render, (surname_input_pos[0] + 5, surname_input_pos[1] + 5))\n",
    "    window.blit(password_input_render, (password_input_pos[0] + 5, password_input_pos[1] + 5))\n",
    "\n",
    "    # Disegna i pulsanti\n",
    "    pygame.draw.rect(window, BLUE, (login_button_pos[0], login_button_pos[1], input_width, input_height))\n",
    "    pygame.draw.rect(window, BLUE, (register_button_pos[0], register_button_pos[1], input_width, input_height))\n",
    "\n",
    "    # Aggiorna la finestra\n",
    "    pygame.display.flip()\n",
    "\n",
    "# Uscita dal programma\n",
    "pygame.quit()"
   ]
  },
  {
   "cell_type": "code",
   "execution_count": 17,
   "metadata": {},
   "outputs": [
    {
     "name": "stdout",
     "output_type": "stream",
     "text": [
      "Aggiornamento del file CSV completato.\n"
     ]
    }
   ],
   "source": [
    "import csv\n",
    "\n",
    "# Dati da aggiungere alla tabella\n",
    "nuova_riga = ['Il', 'Codice', 'Funziona']\n",
    "\n",
    "# Percorso del file CSV da aggiornare\n",
    "percorso_file = 'database.csv'\n",
    "\n",
    "# Apri il file in modalità append\n",
    "with open(percorso_file, 'a', newline='') as file_csv:\n",
    "    writer = csv.writer(file_csv)\n",
    "\n",
    "    # Aggiungi la nuova riga alla tabella\n",
    "    writer.writerow(nuova_riga)\n",
    "\n",
    "print(\"Aggiornamento del file CSV completato.\")"
   ]
  },
  {
   "cell_type": "code",
   "execution_count": 51,
   "metadata": {},
   "outputs": [
    {
     "data": {
      "text/plain": [
       "7"
      ]
     },
     "execution_count": 51,
     "metadata": {},
     "output_type": "execute_result"
    }
   ],
   "source": [
    "dati = pd.read_csv(\"database.csv\")\n",
    "dati.loc[dati['Username'] == 'emily.gregorio2'].index[0] + 1"
   ]
  },
  {
   "cell_type": "code",
   "execution_count": 63,
   "metadata": {},
   "outputs": [
    {
     "name": "stdout",
     "output_type": "stream",
     "text": [
      "['alessandro.imbriaco', 'luca.michilli', 'emily.gregorio', 'davide.blaffard', 'alessandro.imbriaco2', 'alessandro.imbriaco3', 'emily.gregorio2', 'carlo.rossastri', 'valentino.rossi', 'luca.michilli2']\n"
     ]
    }
   ],
   "source": [
    "import pandas as pd\n",
    "dati = pd.read_csv(\"database.csv\")\n",
    "print((list(dati[\"Username\"])))"
   ]
  },
  {
   "cell_type": "code",
   "execution_count": 64,
   "metadata": {},
   "outputs": [
    {
     "data": {
      "text/plain": [
       "['alessandro.imbriaco',\n",
       " 'luca.michilli',\n",
       " 'emily.gregorio',\n",
       " 'davide.blaffard',\n",
       " 'alessandro.imbriaco2',\n",
       " 'alessandro.imbriaco3',\n",
       " 'emily.gregorio2',\n",
       " 'carlo.rossastri',\n",
       " 'valentino.rossi',\n",
       " 'luca.michilli2']"
      ]
     },
     "execution_count": 64,
     "metadata": {},
     "output_type": "execute_result"
    }
   ],
   "source": [
    "list(dati[\"Username\"])"
   ]
  }
 ],
 "metadata": {
  "kernelspec": {
   "display_name": "Python 3",
   "language": "python",
   "name": "python3"
  },
  "language_info": {
   "codemirror_mode": {
    "name": "ipython",
    "version": 3
   },
   "file_extension": ".py",
   "mimetype": "text/x-python",
   "name": "python",
   "nbconvert_exporter": "python",
   "pygments_lexer": "ipython3",
   "version": "3.10.9"
  },
  "orig_nbformat": 4
 },
 "nbformat": 4,
 "nbformat_minor": 2
}
